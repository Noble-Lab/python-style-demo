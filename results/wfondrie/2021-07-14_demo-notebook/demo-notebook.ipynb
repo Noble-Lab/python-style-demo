{
 "cells": [
  {
   "cell_type": "markdown",
   "id": "be97107b-dc75-476b-94f8-d78b3aa083ac",
   "metadata": {},
   "source": [
    "# Using our Python modules in Jupyter\n",
    "\n",
    "To use our Python modules in Jupyter, we need to add let Python know where to find them:"
   ]
  },
  {
   "cell_type": "code",
   "execution_count": 1,
   "id": "b60132ed-fc2a-4dcb-934b-b60082d09506",
   "metadata": {},
   "outputs": [],
   "source": [
    "import sys\n",
    "sys.path.append(\"../../../bin\") # The path to our bin directory"
   ]
  },
  {
   "cell_type": "markdown",
   "id": "c8ee04e9-09b9-4bfb-a92f-9cec0ec548a4",
   "metadata": {},
   "source": [
    "Now we can import our module like we would a Python package:"
   ]
  },
  {
   "cell_type": "code",
   "execution_count": 2,
   "id": "ae434dea-b09a-4429-8ff5-5a523f76f079",
   "metadata": {},
   "outputs": [],
   "source": [
    "import analysis"
   ]
  },
  {
   "cell_type": "markdown",
   "id": "dec31d94-a23c-4719-8f24-6fb98f6f888a",
   "metadata": {},
   "source": [
    "We can now use functions and classes define in the module:"
   ]
  },
  {
   "cell_type": "code",
   "execution_count": 3,
   "id": "ae9eeaad-8b85-411c-8aaf-f785d8f3431a",
   "metadata": {},
   "outputs": [
    {
     "data": {
      "text/plain": [
       "30"
      ]
     },
     "execution_count": 3,
     "metadata": {},
     "output_type": "execute_result"
    }
   ],
   "source": [
    "analysis.add(10, 20)"
   ]
  },
  {
   "cell_type": "code",
   "execution_count": 4,
   "id": "ecc32389-7e7e-415b-b4e3-1e1361dff2b1",
   "metadata": {},
   "outputs": [
    {
     "data": {
      "text/plain": [
       "15"
      ]
     },
     "execution_count": 4,
     "metadata": {},
     "output_type": "execute_result"
    }
   ],
   "source": [
    "analysis.total([1, 2, 3, 4, 5])"
   ]
  },
  {
   "cell_type": "markdown",
   "id": "88c9f898-b47f-44eb-8c0f-5ab828df60c0",
   "metadata": {},
   "source": [
    "We can also view the documentation that we wrote.\n",
    "\n",
    "For example, the module docstring:"
   ]
  },
  {
   "cell_type": "code",
   "execution_count": 5,
   "id": "a1fb3323-4160-4996-a405-30a545dffb8c",
   "metadata": {},
   "outputs": [
    {
     "data": {
      "text/plain": [
       "\u001b[0;31mType:\u001b[0m        module\n",
       "\u001b[0;31mString form:\u001b[0m <module 'analysis' from '../../../bin/analysis.py'>\n",
       "\u001b[0;31mFile:\u001b[0m        ~/python-style-demo/bin/analysis.py\n",
       "\u001b[0;31mDocstring:\u001b[0m  \n",
       "This is the module docstring.\n",
       "\n",
       "Here is where you should put any overarching documentation about your script,\n",
       "particularly for folks that will be looking at the code.\n",
       "\n",
       "This module provides an inefficient means to calculate a total when provided\n",
       "a collection of integers.\n"
      ]
     },
     "metadata": {},
     "output_type": "display_data"
    }
   ],
   "source": [
    "analysis?"
   ]
  },
  {
   "cell_type": "markdown",
   "id": "4f758d7c-4c23-4f41-982a-993b296e92d9",
   "metadata": {},
   "source": [
    "Also, we can see the docstrings for functions:"
   ]
  },
  {
   "cell_type": "code",
   "execution_count": 6,
   "id": "a3c0117f-fa18-4374-99c9-5b816fe38d79",
   "metadata": {},
   "outputs": [
    {
     "data": {
      "text/plain": [
       "\u001b[0;31mSignature:\u001b[0m \u001b[0manalysis\u001b[0m\u001b[0;34m.\u001b[0m\u001b[0madd\u001b[0m\u001b[0;34m(\u001b[0m\u001b[0mx\u001b[0m\u001b[0;34m,\u001b[0m \u001b[0my\u001b[0m\u001b[0;34m=\u001b[0m\u001b[0;32mNone\u001b[0m\u001b[0;34m)\u001b[0m\u001b[0;34m\u001b[0m\u001b[0;34m\u001b[0m\u001b[0m\n",
       "\u001b[0;31mDocstring:\u001b[0m\n",
       "Add two integers.\n",
       "\n",
       "This is the function docstring. It should contain details about what the\n",
       "function does, its parameters (inputs), and what it returns (if anything).\n",
       "There are several standard formats, but this one follows the numpy\n",
       "docstring style.\n",
       "\n",
       "These docstrings can be turned into a webpage using Sphinx and can\n",
       "incorporate ReStructured Text (ReST) directives. For example, here are the\n",
       "links to the `numpy docstring documentation\n",
       "<https://numpydoc.readthedocs.io/en/latest/format.html>`_ and the `Sphinx\n",
       "documentation <https://www.sphinx-doc.org/en/master/>`_\n",
       "\n",
       "Parameters\n",
       "----------\n",
       "x : int\n",
       "    The first integer to add.\n",
       "y : int, optional\n",
       "    The second integer to add. If ``None``, ``x`` is added to itself.\n",
       "\n",
       "Returns\n",
       "-------\n",
       "int\n",
       "    The sum of ``x`` and ``y``.\n",
       "\u001b[0;31mFile:\u001b[0m      ~/python-style-demo/bin/analysis.py\n",
       "\u001b[0;31mType:\u001b[0m      function\n"
      ]
     },
     "metadata": {},
     "output_type": "display_data"
    }
   ],
   "source": [
    "analysis.add?"
   ]
  },
  {
   "cell_type": "markdown",
   "id": "686bdb10-7c26-41e7-9e40-e54ded19e4a0",
   "metadata": {},
   "source": [
    "## Making changes to the module"
   ]
  },
  {
   "cell_type": "markdown",
   "id": "d3a17dd7-678a-46c2-9fe2-69d744abc24c",
   "metadata": {},
   "source": [
    "If we make changes to the module, I recommend pressing the \"Restart Kernel and Run All Cells\" button. This will reimport our module and fix any results that were obtained from running code cells out of order.\n",
    "\n",
    "However, if we really want to reload our module without restarting our notebook, we can use the \"AutoReload\" Jupyter extension when we import our module:"
   ]
  },
  {
   "cell_type": "code",
   "execution_count": 7,
   "id": "570b4a0c-5191-4b5f-8983-cf5e327241ff",
   "metadata": {},
   "outputs": [],
   "source": [
    "%load_ext autoreload\n",
    "%autoreload 2\n",
    "import analysis"
   ]
  },
  {
   "cell_type": "markdown",
   "id": "15be32fc-48b0-4c33-94e4-91ede8bd3524",
   "metadata": {},
   "source": [
    "## Running command line tools\n",
    "\n",
    "It's worth mentioning that you can also run command line programs in Jupyter notebooks simply by prefixing commands with `!`:"
   ]
  },
  {
   "cell_type": "code",
   "execution_count": 8,
   "id": "b78669f5-20ad-4929-afac-7c4e1c19c901",
   "metadata": {},
   "outputs": [
    {
     "name": "stdout",
     "output_type": "stream",
     "text": [
      "usage: analysis.py [-h] integers [integers ...]\n",
      "\n",
      "Sum a collection of integers.\n",
      "\n",
      "positional arguments:\n",
      "  integers    The integers we want to sum.\n",
      "\n",
      "optional arguments:\n",
      "  -h, --help  show this help message and exit\n"
     ]
    }
   ],
   "source": [
    "!python ../../../bin/analysis.py -h"
   ]
  },
  {
   "cell_type": "code",
   "execution_count": 9,
   "id": "5d1ea9ba-d9b6-4bea-bd24-caeac62473d7",
   "metadata": {},
   "outputs": [
    {
     "name": "stdout",
     "output_type": "stream",
     "text": [
      "INFO: Calculating sum of [1, 2, 3]\n",
      "INFO: Finished in 0.001019s.\n",
      "6\n"
     ]
    }
   ],
   "source": [
    "!python ../../../bin/analysis.py 1 2 3"
   ]
  }
 ],
 "metadata": {
  "kernelspec": {
   "display_name": "Python 3 (ipykernel)",
   "language": "python",
   "name": "python3"
  },
  "language_info": {
   "codemirror_mode": {
    "name": "ipython",
    "version": 3
   },
   "file_extension": ".py",
   "mimetype": "text/x-python",
   "name": "python",
   "nbconvert_exporter": "python",
   "pygments_lexer": "ipython3",
   "version": "3.8.8"
  }
 },
 "nbformat": 4,
 "nbformat_minor": 5
}
